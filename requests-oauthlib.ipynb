{
 "cells": [
  {
   "cell_type": "code",
   "execution_count": 1,
   "metadata": {},
   "outputs": [],
   "source": [
    "from pathlib import Path\n",
    "import tomllib\n",
    "from oauthlib.oauth2 import BackendApplicationClient\n",
    "from requests_oauthlib import OAuth2Session\n",
    "from blizzapi import Character, BlizzardAPIURLs, CharacterData"
   ]
  },
  {
   "cell_type": "code",
   "execution_count": 2,
   "metadata": {},
   "outputs": [],
   "source": [
    "client_filepath = Path(r\"D:\\Programming\\github-repos\\nop-raid-bot\\clientdetails.toml\")\n",
    "with open(client_filepath, \"rb\") as client_file:\n",
    "    client_data = tomllib.load(client_file)\n",
    "\n",
    "CLIENT_ID = client_data[\"client\"][\"id\"]\n",
    "CLIENT_SECRET = client_data[\"client\"][\"secret\"]\n",
    "\n",
    "TOKEN_URL = \"https://oauth.battle.net/token\""
   ]
  },
  {
   "cell_type": "code",
   "execution_count": 3,
   "metadata": {},
   "outputs": [
    {
     "data": {
      "text/plain": [
       "{'access_token': 'EU0dR3G5sspjE6Ohggj14w1msA0yD5cmUy',\n",
       " 'token_type': 'bearer',\n",
       " 'expires_in': 86399,\n",
       " 'sub': '1492badc8bfe49469af56f9adf787596',\n",
       " 'expires_at': 1730062647.6787403}"
      ]
     },
     "execution_count": 3,
     "metadata": {},
     "output_type": "execute_result"
    }
   ],
   "source": [
    "client = BackendApplicationClient(client_id=CLIENT_ID)\n",
    "oauth = OAuth2Session(client=client, state=\"blah123\")\n",
    "token = oauth.fetch_token(token_url=TOKEN_URL, client_id=CLIENT_ID, client_secret=CLIENT_SECRET)\n",
    "token"
   ]
  },
  {
   "cell_type": "code",
   "execution_count": 4,
   "metadata": {},
   "outputs": [
    {
     "data": {
      "text/plain": [
       "'No data found for Nerub-ar Palace [Heroic]'"
      ]
     },
     "execution_count": 4,
     "metadata": {},
     "output_type": "execute_result"
    }
   ],
   "source": [
    "testchar = Character(\"Aptodk\", \"Draenor\")\n",
    "blizz_urls = BlizzardAPIURLs()\n",
    "chardata = CharacterData(testchar, blizz_urls, oauth)\n",
    "chardata.get_current_raid_data(\"The War Within\", \"Nerub-ar Palace\", \"Heroic\")"
   ]
  },
  {
   "cell_type": "code",
   "execution_count": 5,
   "metadata": {},
   "outputs": [
    {
     "data": {
      "text/plain": [
       "\"Enchants:\\n- 9 / 9\\n- Back: Enchanted: +355 Avoidance :quality3:\\n- Chest: Enchanted: Crystalline Radiance :quality3:\\n- Wrist: Enchanted: +650 Speed :quality3:\\n- Legs: Enchanted: +930 Agility/Strength & +895 Stamina :quality3:\\n- Feet: Enchanted: Plainsrunner's Breeze :quality2:\\n- Ring 1: Enchanted: +190 Mastery :quality3:\\n- Ring 2: Enchanted: +190 Versatility :quality3:\\n- Main Hand: Enchanted: Rune of the Fallen Crusader\\n- Off Hand: Enchanted: Rune of Razorice\""
      ]
     },
     "execution_count": 5,
     "metadata": {},
     "output_type": "execute_result"
    }
   ],
   "source": [
    "chardata.get_current_enchants(True)"
   ]
  },
  {
   "cell_type": "code",
   "execution_count": null,
   "metadata": {},
   "outputs": [],
   "source": [
    "equipment = oauth.get(blizz_urls.get_equipment(testchar)).json()\n",
    "equipment"
   ]
  },
  {
   "cell_type": "code",
   "execution_count": null,
   "metadata": {},
   "outputs": [],
   "source": [
    "[item[\"slot\"][\"name\"] for item in equipment[\"equipped_items\"]]"
   ]
  },
  {
   "cell_type": "code",
   "execution_count": null,
   "metadata": {},
   "outputs": [],
   "source": [
    "equipment[\"equipped_items\"][16][\"enchantments\"]"
   ]
  },
  {
   "cell_type": "code",
   "execution_count": null,
   "metadata": {},
   "outputs": [],
   "source": [
    "raid_query = blizz_urls.get_raids(testchar)\n",
    "raid_query"
   ]
  },
  {
   "cell_type": "code",
   "execution_count": null,
   "metadata": {},
   "outputs": [],
   "source": [
    "response = oauth.get(raid_query)\n",
    "response"
   ]
  },
  {
   "cell_type": "code",
   "execution_count": null,
   "metadata": {},
   "outputs": [],
   "source": [
    "response.headers"
   ]
  },
  {
   "cell_type": "code",
   "execution_count": null,
   "metadata": {},
   "outputs": [],
   "source": [
    "response.json()"
   ]
  },
  {
   "cell_type": "code",
   "execution_count": null,
   "metadata": {},
   "outputs": [],
   "source": [
    "response.json()[\"expansions\"]"
   ]
  },
  {
   "cell_type": "code",
   "execution_count": null,
   "metadata": {},
   "outputs": [],
   "source": [
    "[data[\"expansion\"][\"name\"] for data in response.json()[\"expansions\"]]"
   ]
  },
  {
   "cell_type": "code",
   "execution_count": 73,
   "metadata": {},
   "outputs": [],
   "source": [
    "expansions_list = [data[\"expansion\"][\"name\"] for data in response.json()[\"expansions\"]]\n",
    "exp_idx = expansions_list.index(\"The War Within\")\n",
    "instance_names = [data[\"instance\"][\"name\"] for data in response.json()[\"expansions\"][exp_idx][\"instances\"]]\n",
    "ins_idx = instance_names.index(\"Nerub-ar Palace\")\n",
    "difficulities = [data[\"difficulty\"][\"name\"] for data in response.json()[\"expansions\"][exp_idx][\"instances\"][ins_idx][\"modes\"]]\n",
    "difficulty_index = difficulities.index(\"Normal\")"
   ]
  },
  {
   "cell_type": "code",
   "execution_count": null,
   "metadata": {},
   "outputs": [],
   "source": [
    "response.json()[\"expansions\"][exp_idx][\"instances\"][ins_idx][\"modes\"][difficulty_index][\"progress\"]"
   ]
  }
 ],
 "metadata": {
  "kernelspec": {
   "display_name": "nop-raid-bot",
   "language": "python",
   "name": "python3"
  },
  "language_info": {
   "codemirror_mode": {
    "name": "ipython",
    "version": 3
   },
   "file_extension": ".py",
   "mimetype": "text/x-python",
   "name": "python",
   "nbconvert_exporter": "python",
   "pygments_lexer": "ipython3",
   "version": "3.13.0"
  }
 },
 "nbformat": 4,
 "nbformat_minor": 2
}
