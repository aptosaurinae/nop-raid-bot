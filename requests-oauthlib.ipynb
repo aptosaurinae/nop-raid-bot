{
 "cells": [
  {
   "cell_type": "markdown",
   "metadata": {},
   "source": [
    "# Testing and validation of outputs when using `blizzapi`"
   ]
  },
  {
   "cell_type": "code",
   "execution_count": 1,
   "metadata": {},
   "outputs": [],
   "source": [
    "from pathlib import Path\n",
    "import tomllib\n",
    "from oauthlib.oauth2 import BackendApplicationClient\n",
    "from requests_oauthlib import OAuth2Session\n",
    "import blizzapi"
   ]
  },
  {
   "cell_type": "markdown",
   "metadata": {},
   "source": [
    "## Setup of `oauth` / blizzard api link"
   ]
  },
  {
   "cell_type": "code",
   "execution_count": 2,
   "metadata": {},
   "outputs": [],
   "source": [
    "client_filepath = Path(r\"D:\\Programming\\github-repos\\nop-raid-bot\\clientdetails.toml\")\n",
    "with open(client_filepath, \"rb\") as client_file:\n",
    "    client_data = tomllib.load(client_file)\n",
    "\n",
    "CLIENT_ID = client_data[\"client\"][\"id\"]\n",
    "CLIENT_SECRET = client_data[\"client\"][\"secret\"]\n",
    "\n",
    "TOKEN_URL = \"https://oauth.battle.net/token\""
   ]
  },
  {
   "cell_type": "code",
   "execution_count": 3,
   "metadata": {},
   "outputs": [],
   "source": [
    "client = BackendApplicationClient(client_id=CLIENT_ID)\n",
    "oauth = OAuth2Session(client=client, state=\"blah123\")\n",
    "token = oauth.fetch_token(token_url=TOKEN_URL, client_id=CLIENT_ID, client_secret=CLIENT_SECRET)"
   ]
  },
  {
   "cell_type": "markdown",
   "metadata": {},
   "source": [
    "### Initial setup of raid variables"
   ]
  },
  {
   "cell_type": "code",
   "execution_count": 4,
   "metadata": {},
   "outputs": [],
   "source": [
    "expansion = \"The War Within\"\n",
    "raid = \"Nerub-ar Palace\"\n",
    "difficulty = \"Heroic\""
   ]
  },
  {
   "cell_type": "markdown",
   "metadata": {},
   "source": [
    "### Test character-specific raid and equipment queries"
   ]
  },
  {
   "cell_type": "code",
   "execution_count": 5,
   "metadata": {},
   "outputs": [
    {
     "data": {
      "text/plain": [
       "\"Aptosaurinae-Draenor:\\n- Heroic Ulgrax the Devourer: <t:1730661349:D>\\n- Heroic The Bloodbound Horror: <t:1730662050:D>\\n- Heroic Sikran, Captain of the Sureki: <t:1730662840:D>\\n- Heroic Rasha'nan: <t:1730663569:D>\\n- Heroic Broodtwister Ovi'nax: <t:1730664631:D>\\n- Heroic Nexus-Princess Ky'veza: <t:1730667103:D>\""
      ]
     },
     "metadata": {},
     "output_type": "display_data"
    },
    {
     "data": {
      "text/plain": [
       "\"Aptosaurinae-Draenor:\\n- Heroic Ulgrax the Devourer: False\\n- Heroic The Bloodbound Horror: False\\n- Heroic Sikran, Captain of the Sureki: False\\n- Heroic Rasha'nan: False\\n- Heroic Broodtwister Ovi'nax: False\\n- Heroic Nexus-Princess Ky'veza: False\""
      ]
     },
     "metadata": {},
     "output_type": "display_data"
    }
   ],
   "source": [
    "aptosaurinae = blizzapi.Character(\"Aptosaurinae\", \"Draenor\")\n",
    "blizz_urls = blizzapi.BlizzardAPIURLs()\n",
    "aptosaurinae_data = blizzapi.CharacterData(aptosaurinae, blizz_api_urls=blizz_urls, oauth=oauth)\n",
    "display(aptosaurinae_data.get_specific_raid_data(expansion, raid, difficulty))\n",
    "display(aptosaurinae_data.get_specific_raid_lockout_status(expansion, raid, difficulty))"
   ]
  },
  {
   "cell_type": "code",
   "execution_count": 6,
   "metadata": {},
   "outputs": [
    {
     "data": {
      "text/plain": [
       "\"Aptosoar-Draenor:\\n- Heroic Ulgrax the Devourer: <t:1728843040:D>\\n- Heroic The Bloodbound Horror: <t:1728845057:D>\\n- Heroic Sikran, Captain of the Sureki: <t:1728846011:D>\\n- Heroic Rasha'nan: <t:1728846940:D>\""
      ]
     },
     "metadata": {},
     "output_type": "display_data"
    },
    {
     "data": {
      "text/plain": [
       "\"Aptosoar-Draenor:\\n- Heroic Ulgrax the Devourer: False\\n- Heroic The Bloodbound Horror: False\\n- Heroic Sikran, Captain of the Sureki: False\\n- Heroic Rasha'nan: False\""
      ]
     },
     "metadata": {},
     "output_type": "display_data"
    }
   ],
   "source": [
    "aptosoar = blizzapi.Character(\"Aptosoar\", \"Draenor\")\n",
    "aptosoar_data = blizzapi.CharacterData(aptosoar, blizz_api_urls=blizz_urls, oauth=oauth)\n",
    "display(aptosoar_data.get_specific_raid_data(expansion, raid, difficulty))\n",
    "display(aptosoar_data.get_specific_raid_lockout_status(expansion, raid, difficulty))"
   ]
  },
  {
   "cell_type": "code",
   "execution_count": 7,
   "metadata": {},
   "outputs": [
    {
     "data": {
      "text/plain": [
       "\"Aptosaurinae-Draenor Enchants:\\n- Back: Enchanted: +355 Avoidance :quality3:\\n- Chest: Enchanted: Crystalline Radiance :quality3:\\n- Wrist: Enchanted: +710 Avoidance :quality3:\\n- Legs: Enchanted: +747 Intellect & +230 Stamina :quality3:\\n- Feet: Enchanted: Scout's March :quality3:\\n- Ring 1: Enchanted: +190 Haste :quality3:\\n- Ring 2: Enchanted: +190 Haste :quality3:\\n- Main Hand: Enchanted: Stormrider's Fury :quality3:\""
      ]
     },
     "metadata": {},
     "output_type": "display_data"
    },
    {
     "data": {
      "text/plain": [
       "'Aptosaurinae-Draenor Gems:\\n- Head gem: Elusive Blasphemite\\n- Wrist gem: Deadly Onyx\\n- Waist gem: Deadly Emerald\\n- Neck gem 1: Masterful Emerald\\n- Neck gem 2: Masterful Emerald\\n- Ring 1 gem 1: Masterful Emerald\\n- Ring 1 gem 2: Masterful Emerald\\n- Ring 2 gem 1: Deadly Sapphire\\n- Ring 2 gem 2: Quick Ruby'"
      ]
     },
     "metadata": {},
     "output_type": "display_data"
    }
   ],
   "source": [
    "display(aptosaurinae_data.get_current_enchants(True))\n",
    "display(aptosaurinae_data.get_current_gems(True))"
   ]
  },
  {
   "cell_type": "code",
   "execution_count": 8,
   "metadata": {},
   "outputs": [
    {
     "data": {
      "text/plain": [
       "'Aptosaurinae-Draenor has no missing enchants'"
      ]
     },
     "metadata": {},
     "output_type": "display_data"
    },
    {
     "data": {
      "text/plain": [
       "'Aptosaurinae-Draenor has no missing gems'"
      ]
     },
     "metadata": {},
     "output_type": "display_data"
    }
   ],
   "source": [
    "display(aptosaurinae_data.get_current_enchants(False))\n",
    "display(aptosaurinae_data.get_current_gems(False))"
   ]
  },
  {
   "cell_type": "code",
   "execution_count": 9,
   "metadata": {},
   "outputs": [
    {
     "data": {
      "text/plain": [
       "'Aptosoar-Draenor Enchants:\\n- Feet: Missing Enchant'"
      ]
     },
     "metadata": {},
     "output_type": "display_data"
    },
    {
     "data": {
      "text/plain": [
       "'Aptosoar-Draenor Gems:\\n- Waist gem: Missing Socket\\n- Neck gem 1: Missing Gem\\n- Neck gem 2: Missing Socket'"
      ]
     },
     "metadata": {},
     "output_type": "display_data"
    }
   ],
   "source": [
    "display(aptosoar_data.get_current_enchants(False))\n",
    "display(aptosoar_data.get_current_gems(False))"
   ]
  },
  {
   "cell_type": "code",
   "execution_count": 10,
   "metadata": {},
   "outputs": [
    {
     "data": {
      "text/plain": [
       "'Aptodin-Draenor Enchants:\\n- Back: Missing Enchant\\n- Chest: Missing Enchant\\n- Wrist: Missing Enchant\\n- Legs: Missing Enchant\\n- Feet: Missing Enchant\\n- Ring 1: Missing Enchant\\n- Ring 2: Missing Enchant\\n- Main Hand: Missing Enchant\\n- Off Hand: Missing Enchant'"
      ]
     },
     "metadata": {},
     "output_type": "display_data"
    },
    {
     "data": {
      "text/plain": [
       "'Aptodin-Draenor Gems:\\n- Head gem: Missing Socket\\n- Wrist gem: Missing Socket\\n- Waist gem: Missing Socket\\n- Neck gem 1: Missing Socket\\n- Neck gem 2: Missing Socket\\n- Ring 1 gem 1: Missing Socket\\n- Ring 1 gem 2: Missing Socket\\n- Ring 2 gem 1: Missing Socket\\n- Ring 2 gem 2: Missing Socket'"
      ]
     },
     "metadata": {},
     "output_type": "display_data"
    }
   ],
   "source": [
    "aptodin = blizzapi.Character(\"Aptodin\", \"Draenor\")\n",
    "aptodin_data = blizzapi.CharacterData(aptodin, blizz_api_urls=blizz_urls, oauth=oauth)\n",
    "display(aptodin_data.get_current_enchants(True))\n",
    "display(aptodin_data.get_current_gems(True))"
   ]
  },
  {
   "cell_type": "markdown",
   "metadata": {},
   "source": [
    "### Test raid information gathering"
   ]
  },
  {
   "cell_type": "code",
   "execution_count": 11,
   "metadata": {},
   "outputs": [
    {
     "data": {
      "text/plain": [
       "['Ulgrax the Devourer',\n",
       " 'The Bloodbound Horror',\n",
       " 'Sikran, Captain of the Sureki',\n",
       " \"Rasha'nan\",\n",
       " \"Broodtwister Ovi'nax\",\n",
       " \"Nexus-Princess Ky'veza\",\n",
       " 'The Silken Court',\n",
       " 'Queen Ansurek']"
      ]
     },
     "execution_count": 11,
     "metadata": {},
     "output_type": "execute_result"
    }
   ],
   "source": [
    "nerubar_raid_info = blizzapi.RaidInfo(expansion, raid, oauth, blizz_urls)\n",
    "nerubar_raid_info.get_raid_encounters()"
   ]
  },
  {
   "cell_type": "markdown",
   "metadata": {},
   "source": [
    "### Test querying batches of information from the API"
   ]
  },
  {
   "cell_type": "code",
   "execution_count": 12,
   "metadata": {},
   "outputs": [
    {
     "name": "stderr",
     "output_type": "stream",
     "text": [
      "d:\\Programming\\github-repos\\nop-raid-bot\\blizzapi.py:527: UserWarning: No data found for Aptodin-Draenor Nerub-ar Palace [Heroic]\n",
      "  warnings.warn(f\"No data found for {self.char.name}-{self.char.realm} {raid_name} [{difficulty}]\")\n"
     ]
    },
    {
     "data": {
      "text/html": [
       "<div><style>\n",
       ".dataframe > thead > tr,\n",
       ".dataframe > tbody > tr {\n",
       "  text-align: right;\n",
       "  white-space: pre-wrap;\n",
       "}\n",
       "</style>\n",
       "<small>shape: (3, 9)</small><table border=\"1\" class=\"dataframe\"><thead><tr><th>CharacterName-RealmName</th><th>Heroic Ulgrax the Devourer</th><th>Heroic The Bloodbound Horror</th><th>Heroic Sikran, Captain of the Sureki</th><th>Heroic Rasha&#x27;nan</th><th>Heroic Broodtwister Ovi&#x27;nax</th><th>Heroic Nexus-Princess Ky&#x27;veza</th><th>Heroic The Silken Court</th><th>Heroic Queen Ansurek</th></tr><tr><td>str</td><td>i32</td><td>i32</td><td>i32</td><td>i32</td><td>i32</td><td>i32</td><td>i32</td><td>i32</td></tr></thead><tbody><tr><td>&quot;Aptosaurinae-Draenor&quot;</td><td>1730661349</td><td>1730662050</td><td>1730662840</td><td>1730663569</td><td>1730664631</td><td>1730667103</td><td>null</td><td>null</td></tr><tr><td>&quot;Aptosoar-Draenor&quot;</td><td>1728843040</td><td>1728845057</td><td>1728846011</td><td>1728846940</td><td>null</td><td>null</td><td>null</td><td>null</td></tr><tr><td>&quot;Aptodin-Draenor&quot;</td><td>null</td><td>null</td><td>null</td><td>null</td><td>null</td><td>null</td><td>null</td><td>null</td></tr></tbody></table></div>"
      ],
      "text/plain": [
       "shape: (3, 9)\n",
       "┌───────────┬───────────┬───────────┬───────────┬───┬───────────┬───────────┬───────────┬──────────┐\n",
       "│ Character ┆ Heroic    ┆ Heroic    ┆ Heroic    ┆ … ┆ Heroic    ┆ Heroic    ┆ Heroic    ┆ Heroic   │\n",
       "│ Name-Real ┆ Ulgrax    ┆ The Blood ┆ Sikran,   ┆   ┆ Broodtwis ┆ Nexus-Pri ┆ The       ┆ Queen    │\n",
       "│ mName     ┆ the       ┆ bound     ┆ Captain   ┆   ┆ ter       ┆ ncess     ┆ Silken    ┆ Ansurek  │\n",
       "│ ---       ┆ Devourer  ┆ Horror    ┆ of the …  ┆   ┆ Ovi'nax   ┆ Ky'veza   ┆ Court     ┆ ---      │\n",
       "│ str       ┆ ---       ┆ ---       ┆ ---       ┆   ┆ ---       ┆ ---       ┆ ---       ┆ i32      │\n",
       "│           ┆ i32       ┆ i32       ┆ i32       ┆   ┆ i32       ┆ i32       ┆ i32       ┆          │\n",
       "╞═══════════╪═══════════╪═══════════╪═══════════╪═══╪═══════════╪═══════════╪═══════════╪══════════╡\n",
       "│ Aptosauri ┆ 173066134 ┆ 173066205 ┆ 173066284 ┆ … ┆ 173066463 ┆ 173066710 ┆ null      ┆ null     │\n",
       "│ nae-Draen ┆ 9         ┆ 0         ┆ 0         ┆   ┆ 1         ┆ 3         ┆           ┆          │\n",
       "│ or        ┆           ┆           ┆           ┆   ┆           ┆           ┆           ┆          │\n",
       "│ Aptosoar- ┆ 172884304 ┆ 172884505 ┆ 172884601 ┆ … ┆ null      ┆ null      ┆ null      ┆ null     │\n",
       "│ Draenor   ┆ 0         ┆ 7         ┆ 1         ┆   ┆           ┆           ┆           ┆          │\n",
       "│ Aptodin-D ┆ null      ┆ null      ┆ null      ┆ … ┆ null      ┆ null      ┆ null      ┆ null     │\n",
       "│ raenor    ┆           ┆           ┆           ┆   ┆           ┆           ┆           ┆          │\n",
       "└───────────┴───────────┴───────────┴───────────┴───┴───────────┴───────────┴───────────┴──────────┘"
      ]
     },
     "metadata": {},
     "output_type": "display_data"
    },
    {
     "name": "stderr",
     "output_type": "stream",
     "text": [
      "d:\\Programming\\github-repos\\nop-raid-bot\\blizzapi.py:527: UserWarning: No data found for Aptodin-Draenor Nerub-ar Palace [Heroic]\n",
      "  warnings.warn(f\"No data found for {self.char.name}-{self.char.realm} {raid_name} [{difficulty}]\")\n"
     ]
    },
    {
     "data": {
      "text/html": [
       "<div><style>\n",
       ".dataframe > thead > tr,\n",
       ".dataframe > tbody > tr {\n",
       "  text-align: right;\n",
       "  white-space: pre-wrap;\n",
       "}\n",
       "</style>\n",
       "<small>shape: (3, 9)</small><table border=\"1\" class=\"dataframe\"><thead><tr><th>CharacterName-RealmName</th><th>Heroic Ulgrax the Devourer</th><th>Heroic The Bloodbound Horror</th><th>Heroic Sikran, Captain of the Sureki</th><th>Heroic Rasha&#x27;nan</th><th>Heroic Broodtwister Ovi&#x27;nax</th><th>Heroic Nexus-Princess Ky&#x27;veza</th><th>Heroic The Silken Court</th><th>Heroic Queen Ansurek</th></tr><tr><td>str</td><td>bool</td><td>bool</td><td>bool</td><td>bool</td><td>bool</td><td>bool</td><td>bool</td><td>bool</td></tr></thead><tbody><tr><td>&quot;Aptosaurinae-Draenor&quot;</td><td>false</td><td>false</td><td>false</td><td>false</td><td>false</td><td>false</td><td>false</td><td>false</td></tr><tr><td>&quot;Aptosoar-Draenor&quot;</td><td>false</td><td>false</td><td>false</td><td>false</td><td>false</td><td>false</td><td>false</td><td>false</td></tr><tr><td>&quot;Aptodin-Draenor&quot;</td><td>false</td><td>false</td><td>false</td><td>false</td><td>false</td><td>false</td><td>false</td><td>false</td></tr></tbody></table></div>"
      ],
      "text/plain": [
       "shape: (3, 9)\n",
       "┌───────────┬───────────┬───────────┬───────────┬───┬───────────┬───────────┬───────────┬──────────┐\n",
       "│ Character ┆ Heroic    ┆ Heroic    ┆ Heroic    ┆ … ┆ Heroic    ┆ Heroic    ┆ Heroic    ┆ Heroic   │\n",
       "│ Name-Real ┆ Ulgrax    ┆ The Blood ┆ Sikran,   ┆   ┆ Broodtwis ┆ Nexus-Pri ┆ The       ┆ Queen    │\n",
       "│ mName     ┆ the       ┆ bound     ┆ Captain   ┆   ┆ ter       ┆ ncess     ┆ Silken    ┆ Ansurek  │\n",
       "│ ---       ┆ Devourer  ┆ Horror    ┆ of the …  ┆   ┆ Ovi'nax   ┆ Ky'veza   ┆ Court     ┆ ---      │\n",
       "│ str       ┆ ---       ┆ ---       ┆ ---       ┆   ┆ ---       ┆ ---       ┆ ---       ┆ bool     │\n",
       "│           ┆ bool      ┆ bool      ┆ bool      ┆   ┆ bool      ┆ bool      ┆ bool      ┆          │\n",
       "╞═══════════╪═══════════╪═══════════╪═══════════╪═══╪═══════════╪═══════════╪═══════════╪══════════╡\n",
       "│ Aptosauri ┆ false     ┆ false     ┆ false     ┆ … ┆ false     ┆ false     ┆ false     ┆ false    │\n",
       "│ nae-Draen ┆           ┆           ┆           ┆   ┆           ┆           ┆           ┆          │\n",
       "│ or        ┆           ┆           ┆           ┆   ┆           ┆           ┆           ┆          │\n",
       "│ Aptosoar- ┆ false     ┆ false     ┆ false     ┆ … ┆ false     ┆ false     ┆ false     ┆ false    │\n",
       "│ Draenor   ┆           ┆           ┆           ┆   ┆           ┆           ┆           ┆          │\n",
       "│ Aptodin-D ┆ false     ┆ false     ┆ false     ┆ … ┆ false     ┆ false     ┆ false     ┆ false    │\n",
       "│ raenor    ┆           ┆           ┆           ┆   ┆           ┆           ┆           ┆          │\n",
       "└───────────┴───────────┴───────────┴───────────┴───┴───────────┴───────────┴───────────┴──────────┘"
      ]
     },
     "metadata": {},
     "output_type": "display_data"
    },
    {
     "data": {
      "text/html": [
       "<div><style>\n",
       ".dataframe > thead > tr,\n",
       ".dataframe > tbody > tr {\n",
       "  text-align: right;\n",
       "  white-space: pre-wrap;\n",
       "}\n",
       "</style>\n",
       "<small>shape: (3, 19)</small><table border=\"1\" class=\"dataframe\"><thead><tr><th>CharacterName-RealmName</th><th>Back</th><th>Chest</th><th>Wrist</th><th>Legs</th><th>Feet</th><th>Ring 1</th><th>Ring 2</th><th>Main Hand</th><th>Head gem</th><th>Wrist gem</th><th>Waist gem</th><th>Neck gem 1</th><th>Neck gem 2</th><th>Ring 1 gem 1</th><th>Ring 1 gem 2</th><th>Ring 2 gem 1</th><th>Ring 2 gem 2</th><th>Off Hand</th></tr><tr><td>str</td><td>str</td><td>str</td><td>str</td><td>str</td><td>str</td><td>str</td><td>str</td><td>str</td><td>str</td><td>str</td><td>str</td><td>str</td><td>str</td><td>str</td><td>str</td><td>str</td><td>str</td><td>str</td></tr></thead><tbody><tr><td>&quot;Aptosaurinae-Draenor&quot;</td><td>&quot;Enchanted: +355 Avoidance :qua…</td><td>&quot;Enchanted: Crystalline Radianc…</td><td>&quot;Enchanted: +710 Avoidance :qua…</td><td>&quot;Enchanted: +747 Intellect &amp; +2…</td><td>&quot;Enchanted: Scout&#x27;s March :qual…</td><td>&quot;Enchanted: +190 Haste :quality…</td><td>&quot;Enchanted: +190 Haste :quality…</td><td>&quot;Enchanted: Stormrider&#x27;s Fury :…</td><td>&quot;Elusive Blasphemite&quot;</td><td>&quot;Deadly Onyx&quot;</td><td>&quot;Deadly Emerald&quot;</td><td>&quot;Masterful Emerald&quot;</td><td>&quot;Masterful Emerald&quot;</td><td>&quot;Masterful Emerald&quot;</td><td>&quot;Masterful Emerald&quot;</td><td>&quot;Deadly Sapphire&quot;</td><td>&quot;Quick Ruby&quot;</td><td>&quot;No Item&quot;</td></tr><tr><td>&quot;Aptosoar-Draenor&quot;</td><td>&quot;Enchanted: +355 Avoidance :qua…</td><td>&quot;Enchanted: Crystalline Radianc…</td><td>&quot;Enchanted: +710 Avoidance :qua…</td><td>&quot;Enchanted: +670 Intellect &amp; +4…</td><td>&quot;Missing Enchant&quot;</td><td>&quot;Enchanted: +190 Mastery :quali…</td><td>&quot;Enchanted: +190 Critical Strik…</td><td>&quot;Enchanted: Stonebound Artistry…</td><td>&quot;Quick Onyx&quot;</td><td>&quot;Elusive Blasphemite&quot;</td><td>&quot;Missing Socket&quot;</td><td>&quot;Missing Gem&quot;</td><td>&quot;Missing Socket&quot;</td><td>&quot;Quick Amber&quot;</td><td>&quot;Deadly Amber&quot;</td><td>&quot;Masterful Amber&quot;</td><td>&quot;Versatile Amber&quot;</td><td>&quot;No Item&quot;</td></tr><tr><td>&quot;Aptodin-Draenor&quot;</td><td>&quot;Missing Enchant&quot;</td><td>&quot;Missing Enchant&quot;</td><td>&quot;Missing Enchant&quot;</td><td>&quot;Missing Enchant&quot;</td><td>&quot;Missing Enchant&quot;</td><td>&quot;Missing Enchant&quot;</td><td>&quot;Missing Enchant&quot;</td><td>&quot;Missing Enchant&quot;</td><td>&quot;Missing Socket&quot;</td><td>&quot;Missing Socket&quot;</td><td>&quot;Missing Socket&quot;</td><td>&quot;Missing Socket&quot;</td><td>&quot;Missing Socket&quot;</td><td>&quot;Missing Socket&quot;</td><td>&quot;Missing Socket&quot;</td><td>&quot;Missing Socket&quot;</td><td>&quot;Missing Socket&quot;</td><td>&quot;Missing Enchant&quot;</td></tr></tbody></table></div>"
      ],
      "text/plain": [
       "shape: (3, 19)\n",
       "┌───────────┬───────────┬───────────┬───────────┬───┬───────────┬───────────┬───────────┬──────────┐\n",
       "│ Character ┆ Back      ┆ Chest     ┆ Wrist     ┆ … ┆ Ring 1    ┆ Ring 2    ┆ Ring 2    ┆ Off Hand │\n",
       "│ Name-Real ┆ ---       ┆ ---       ┆ ---       ┆   ┆ gem 2     ┆ gem 1     ┆ gem 2     ┆ ---      │\n",
       "│ mName     ┆ str       ┆ str       ┆ str       ┆   ┆ ---       ┆ ---       ┆ ---       ┆ str      │\n",
       "│ ---       ┆           ┆           ┆           ┆   ┆ str       ┆ str       ┆ str       ┆          │\n",
       "│ str       ┆           ┆           ┆           ┆   ┆           ┆           ┆           ┆          │\n",
       "╞═══════════╪═══════════╪═══════════╪═══════════╪═══╪═══════════╪═══════════╪═══════════╪══════════╡\n",
       "│ Aptosauri ┆ Enchanted ┆ Enchanted ┆ Enchanted ┆ … ┆ Masterful ┆ Deadly    ┆ Quick     ┆ No Item  │\n",
       "│ nae-Draen ┆ : +355    ┆ : Crystal ┆ : +710    ┆   ┆ Emerald   ┆ Sapphire  ┆ Ruby      ┆          │\n",
       "│ or        ┆ Avoidance ┆ line      ┆ Avoidance ┆   ┆           ┆           ┆           ┆          │\n",
       "│           ┆ :qua…     ┆ Radianc…  ┆ :qua…     ┆   ┆           ┆           ┆           ┆          │\n",
       "│ Aptosoar- ┆ Enchanted ┆ Enchanted ┆ Enchanted ┆ … ┆ Deadly    ┆ Masterful ┆ Versatile ┆ No Item  │\n",
       "│ Draenor   ┆ : +355    ┆ : Crystal ┆ : +710    ┆   ┆ Amber     ┆ Amber     ┆ Amber     ┆          │\n",
       "│           ┆ Avoidance ┆ line      ┆ Avoidance ┆   ┆           ┆           ┆           ┆          │\n",
       "│           ┆ :qua…     ┆ Radianc…  ┆ :qua…     ┆   ┆           ┆           ┆           ┆          │\n",
       "│ Aptodin-D ┆ Missing   ┆ Missing   ┆ Missing   ┆ … ┆ Missing   ┆ Missing   ┆ Missing   ┆ Missing  │\n",
       "│ raenor    ┆ Enchant   ┆ Enchant   ┆ Enchant   ┆   ┆ Socket    ┆ Socket    ┆ Socket    ┆ Enchant  │\n",
       "└───────────┴───────────┴───────────┴───────────┴───┴───────────┴───────────┴───────────┴──────────┘"
      ]
     },
     "metadata": {},
     "output_type": "display_data"
    },
    {
     "name": "stderr",
     "output_type": "stream",
     "text": [
      "d:\\Programming\\github-repos\\nop-raid-bot\\blizzapi.py:527: UserWarning: No data found for Aptodin-Draenor Nerub-ar Palace [Heroic]\n",
      "  warnings.warn(f\"No data found for {self.char.name}-{self.char.realm} {raid_name} [{difficulty}]\")\n"
     ]
    },
    {
     "data": {
      "text/plain": [
       "'Raid Lockout Summary for Nerub-ar Palace [Heroic] (Y if boss has been killed this reset)\\n```                     1 2 3 4 5 6 7 8\\nAptosaurinae-Draenor N N N N N N N N\\nAptosoar-Draenor     N N N N N N N N\\nAptodin-Draenor      N N N N N N N N```'"
      ]
     },
     "metadata": {},
     "output_type": "display_data"
    },
    {
     "data": {
      "text/plain": [
       "'Raid Progress Summary for Nerub-ar Palace [Heroic] (Y if boss has been killed ever by this character)\\n```                     1 2 3 4 5 6 7 8\\nAptosaurinae-Draenor Y Y Y Y Y Y N N\\nAptosoar-Draenor     Y Y Y Y N N N N\\nAptodin-Draenor      N N N N N N N N```'"
      ]
     },
     "metadata": {},
     "output_type": "display_data"
    },
    {
     "name": "stdout",
     "output_type": "stream",
     "text": [
      "['                                                                                                                  Ring   Ring   Ring   Ring       ', '                                                                                                    Neck   Neck      1      1      2      2       ', '                                                          Ring   Ring   Main   Head  Wrist  Waist    gem    gem    gem    gem    gem    gem    Off', '                       Back  Chest  Wrist   Legs   Feet      1      2   Hand    gem    gem    gem      1      2      1      2      1      2   Hand']\n"
     ]
    },
    {
     "data": {
      "text/plain": [
       "'Equipment summary (Y for enchanted/gemmed N for not, X for missing entirely)\\n```\\n                                                                                                                  Ring   Ring   Ring   Ring       \\n                                                                                                    Neck   Neck      1      1      2      2       \\n                                                          Ring   Ring   Main   Head  Wrist  Waist    gem    gem    gem    gem    gem    gem    Off\\n                       Back  Chest  Wrist   Legs   Feet      1      2   Hand    gem    gem    gem      1      2      1      2      1      2   Hand\\nAptosaurinae-Draenor      Y      Y      Y      Y      Y      Y      Y      Y      Y      Y      Y      Y      Y      Y      Y      Y      Y      X\\nAptosoar-Draenor          Y      Y      Y      Y      N      Y      Y      Y      Y      Y      X      N      X      Y      Y      Y      Y      X\\nAptodin-Draenor           N      N      N      N      N      N      N      N      X      X      X      X      X      X      X      X      X      N```'"
      ]
     },
     "metadata": {},
     "output_type": "display_data"
    }
   ],
   "source": [
    "batch_data = blizzapi.BatchData(oauth, blizz_urls)\n",
    "batch_data.add_chars([aptosaurinae, aptosoar, aptodin])\n",
    "display(batch_data.get_raid_df(expansion, raid, difficulty))\n",
    "display(batch_data.get_raid_df(expansion, raid, difficulty, report_type=\"lockout\"))\n",
    "display(batch_data.get_equipment_df())\n",
    "display(batch_data.get_raid_lockout_summary(expansion, raid, difficulty))\n",
    "display(batch_data.get_raid_progress_summary(expansion, raid, difficulty))\n",
    "display(batch_data.get_equipment_summary())"
   ]
  },
  {
   "cell_type": "code",
   "execution_count": 13,
   "metadata": {},
   "outputs": [
    {
     "name": "stderr",
     "output_type": "stream",
     "text": [
      "d:\\Programming\\github-repos\\nop-raid-bot\\blizzapi.py:706: UserWarning: No equipment found for Aptodoesntexist-Draenor\n",
      "  warnings.warn(f\"No equipment found for {self.char.name}-{self.char.realm}\")\n"
     ]
    },
    {
     "data": {
      "text/plain": [
       "'Aptodoesntexist-Draenor does not exist'"
      ]
     },
     "execution_count": 13,
     "metadata": {},
     "output_type": "execute_result"
    }
   ],
   "source": [
    "test_noexist = blizzapi.Character(\"Aptodoesntexist\", \"Draenor\")\n",
    "test_noexist_data = blizzapi.CharacterData(test_noexist, oauth, blizz_urls)\n",
    "test_noexist_data.get_current_enchants()\n",
    "test_noexist_data.get_current_gems()"
   ]
  },
  {
   "cell_type": "code",
   "execution_count": 14,
   "metadata": {},
   "outputs": [
    {
     "name": "stderr",
     "output_type": "stream",
     "text": [
      "d:\\Programming\\github-repos\\nop-raid-bot\\blizzapi.py:527: UserWarning: No data found for Aptodoesntexist-Draenor Nerub-ar Palace [Heroic]\n",
      "  warnings.warn(f\"No data found for {self.char.name}-{self.char.realm} {raid_name} [{difficulty}]\")\n"
     ]
    },
    {
     "data": {
      "text/html": [
       "<div><style>\n",
       ".dataframe > thead > tr,\n",
       ".dataframe > tbody > tr {\n",
       "  text-align: right;\n",
       "  white-space: pre-wrap;\n",
       "}\n",
       "</style>\n",
       "<small>shape: (4, 9)</small><table border=\"1\" class=\"dataframe\"><thead><tr><th>CharacterName-RealmName</th><th>Heroic Ulgrax the Devourer</th><th>Heroic The Bloodbound Horror</th><th>Heroic Sikran, Captain of the Sureki</th><th>Heroic Rasha&#x27;nan</th><th>Heroic Broodtwister Ovi&#x27;nax</th><th>Heroic Nexus-Princess Ky&#x27;veza</th><th>Heroic The Silken Court</th><th>Heroic Queen Ansurek</th></tr><tr><td>str</td><td>i32</td><td>i32</td><td>i32</td><td>i32</td><td>i32</td><td>i32</td><td>i32</td><td>i32</td></tr></thead><tbody><tr><td>&quot;Aptodoesntexist-Draenor&quot;</td><td>null</td><td>null</td><td>null</td><td>null</td><td>null</td><td>null</td><td>null</td><td>null</td></tr><tr><td>&quot;Aptosaurinae-Draenor&quot;</td><td>1730661349</td><td>1730662050</td><td>1730662840</td><td>1730663569</td><td>1730664631</td><td>1730667103</td><td>null</td><td>null</td></tr><tr><td>&quot;Aptosoar-Draenor&quot;</td><td>1728843040</td><td>1728845057</td><td>1728846011</td><td>1728846940</td><td>null</td><td>null</td><td>null</td><td>null</td></tr><tr><td>&quot;Aptodin-Draenor&quot;</td><td>null</td><td>null</td><td>null</td><td>null</td><td>null</td><td>null</td><td>null</td><td>null</td></tr></tbody></table></div>"
      ],
      "text/plain": [
       "shape: (4, 9)\n",
       "┌───────────┬───────────┬───────────┬───────────┬───┬───────────┬───────────┬───────────┬──────────┐\n",
       "│ Character ┆ Heroic    ┆ Heroic    ┆ Heroic    ┆ … ┆ Heroic    ┆ Heroic    ┆ Heroic    ┆ Heroic   │\n",
       "│ Name-Real ┆ Ulgrax    ┆ The Blood ┆ Sikran,   ┆   ┆ Broodtwis ┆ Nexus-Pri ┆ The       ┆ Queen    │\n",
       "│ mName     ┆ the       ┆ bound     ┆ Captain   ┆   ┆ ter       ┆ ncess     ┆ Silken    ┆ Ansurek  │\n",
       "│ ---       ┆ Devourer  ┆ Horror    ┆ of the …  ┆   ┆ Ovi'nax   ┆ Ky'veza   ┆ Court     ┆ ---      │\n",
       "│ str       ┆ ---       ┆ ---       ┆ ---       ┆   ┆ ---       ┆ ---       ┆ ---       ┆ i32      │\n",
       "│           ┆ i32       ┆ i32       ┆ i32       ┆   ┆ i32       ┆ i32       ┆ i32       ┆          │\n",
       "╞═══════════╪═══════════╪═══════════╪═══════════╪═══╪═══════════╪═══════════╪═══════════╪══════════╡\n",
       "│ Aptodoesn ┆ null      ┆ null      ┆ null      ┆ … ┆ null      ┆ null      ┆ null      ┆ null     │\n",
       "│ texist-Dr ┆           ┆           ┆           ┆   ┆           ┆           ┆           ┆          │\n",
       "│ aenor     ┆           ┆           ┆           ┆   ┆           ┆           ┆           ┆          │\n",
       "│ Aptosauri ┆ 173066134 ┆ 173066205 ┆ 173066284 ┆ … ┆ 173066463 ┆ 173066710 ┆ null      ┆ null     │\n",
       "│ nae-Draen ┆ 9         ┆ 0         ┆ 0         ┆   ┆ 1         ┆ 3         ┆           ┆          │\n",
       "│ or        ┆           ┆           ┆           ┆   ┆           ┆           ┆           ┆          │\n",
       "│ Aptosoar- ┆ 172884304 ┆ 172884505 ┆ 172884601 ┆ … ┆ null      ┆ null      ┆ null      ┆ null     │\n",
       "│ Draenor   ┆ 0         ┆ 7         ┆ 1         ┆   ┆           ┆           ┆           ┆          │\n",
       "│ Aptodin-D ┆ null      ┆ null      ┆ null      ┆ … ┆ null      ┆ null      ┆ null      ┆ null     │\n",
       "│ raenor    ┆           ┆           ┆           ┆   ┆           ┆           ┆           ┆          │\n",
       "└───────────┴───────────┴───────────┴───────────┴───┴───────────┴───────────┴───────────┴──────────┘"
      ]
     },
     "metadata": {},
     "output_type": "display_data"
    },
    {
     "name": "stderr",
     "output_type": "stream",
     "text": [
      "d:\\Programming\\github-repos\\nop-raid-bot\\blizzapi.py:527: UserWarning: No data found for Aptodin-Draenor Nerub-ar Palace [Heroic]\n",
      "  warnings.warn(f\"No data found for {self.char.name}-{self.char.realm} {raid_name} [{difficulty}]\")\n"
     ]
    },
    {
     "data": {
      "text/html": [
       "<div><style>\n",
       ".dataframe > thead > tr,\n",
       ".dataframe > tbody > tr {\n",
       "  text-align: right;\n",
       "  white-space: pre-wrap;\n",
       "}\n",
       "</style>\n",
       "<small>shape: (4, 9)</small><table border=\"1\" class=\"dataframe\"><thead><tr><th>CharacterName-RealmName</th><th>Heroic Ulgrax the Devourer</th><th>Heroic The Bloodbound Horror</th><th>Heroic Sikran, Captain of the Sureki</th><th>Heroic Rasha&#x27;nan</th><th>Heroic Broodtwister Ovi&#x27;nax</th><th>Heroic Nexus-Princess Ky&#x27;veza</th><th>Heroic The Silken Court</th><th>Heroic Queen Ansurek</th></tr><tr><td>str</td><td>bool</td><td>bool</td><td>bool</td><td>bool</td><td>bool</td><td>bool</td><td>bool</td><td>bool</td></tr></thead><tbody><tr><td>&quot;Aptodoesntexist-Draenor&quot;</td><td>false</td><td>false</td><td>false</td><td>false</td><td>false</td><td>false</td><td>false</td><td>false</td></tr><tr><td>&quot;Aptosaurinae-Draenor&quot;</td><td>false</td><td>false</td><td>false</td><td>false</td><td>false</td><td>false</td><td>false</td><td>false</td></tr><tr><td>&quot;Aptosoar-Draenor&quot;</td><td>false</td><td>false</td><td>false</td><td>false</td><td>false</td><td>false</td><td>false</td><td>false</td></tr><tr><td>&quot;Aptodin-Draenor&quot;</td><td>false</td><td>false</td><td>false</td><td>false</td><td>false</td><td>false</td><td>false</td><td>false</td></tr></tbody></table></div>"
      ],
      "text/plain": [
       "shape: (4, 9)\n",
       "┌───────────┬───────────┬───────────┬───────────┬───┬───────────┬───────────┬───────────┬──────────┐\n",
       "│ Character ┆ Heroic    ┆ Heroic    ┆ Heroic    ┆ … ┆ Heroic    ┆ Heroic    ┆ Heroic    ┆ Heroic   │\n",
       "│ Name-Real ┆ Ulgrax    ┆ The Blood ┆ Sikran,   ┆   ┆ Broodtwis ┆ Nexus-Pri ┆ The       ┆ Queen    │\n",
       "│ mName     ┆ the       ┆ bound     ┆ Captain   ┆   ┆ ter       ┆ ncess     ┆ Silken    ┆ Ansurek  │\n",
       "│ ---       ┆ Devourer  ┆ Horror    ┆ of the …  ┆   ┆ Ovi'nax   ┆ Ky'veza   ┆ Court     ┆ ---      │\n",
       "│ str       ┆ ---       ┆ ---       ┆ ---       ┆   ┆ ---       ┆ ---       ┆ ---       ┆ bool     │\n",
       "│           ┆ bool      ┆ bool      ┆ bool      ┆   ┆ bool      ┆ bool      ┆ bool      ┆          │\n",
       "╞═══════════╪═══════════╪═══════════╪═══════════╪═══╪═══════════╪═══════════╪═══════════╪══════════╡\n",
       "│ Aptodoesn ┆ false     ┆ false     ┆ false     ┆ … ┆ false     ┆ false     ┆ false     ┆ false    │\n",
       "│ texist-Dr ┆           ┆           ┆           ┆   ┆           ┆           ┆           ┆          │\n",
       "│ aenor     ┆           ┆           ┆           ┆   ┆           ┆           ┆           ┆          │\n",
       "│ Aptosauri ┆ false     ┆ false     ┆ false     ┆ … ┆ false     ┆ false     ┆ false     ┆ false    │\n",
       "│ nae-Draen ┆           ┆           ┆           ┆   ┆           ┆           ┆           ┆          │\n",
       "│ or        ┆           ┆           ┆           ┆   ┆           ┆           ┆           ┆          │\n",
       "│ Aptosoar- ┆ false     ┆ false     ┆ false     ┆ … ┆ false     ┆ false     ┆ false     ┆ false    │\n",
       "│ Draenor   ┆           ┆           ┆           ┆   ┆           ┆           ┆           ┆          │\n",
       "│ Aptodin-D ┆ false     ┆ false     ┆ false     ┆ … ┆ false     ┆ false     ┆ false     ┆ false    │\n",
       "│ raenor    ┆           ┆           ┆           ┆   ┆           ┆           ┆           ┆          │\n",
       "└───────────┴───────────┴───────────┴───────────┴───┴───────────┴───────────┴───────────┴──────────┘"
      ]
     },
     "metadata": {},
     "output_type": "display_data"
    },
    {
     "name": "stderr",
     "output_type": "stream",
     "text": [
      "d:\\Programming\\github-repos\\nop-raid-bot\\blizzapi.py:706: UserWarning: No equipment found for Aptodoesntexist-Draenor\n",
      "  warnings.warn(f\"No equipment found for {self.char.name}-{self.char.realm}\")\n"
     ]
    },
    {
     "data": {
      "text/html": [
       "<div><style>\n",
       ".dataframe > thead > tr,\n",
       ".dataframe > tbody > tr {\n",
       "  text-align: right;\n",
       "  white-space: pre-wrap;\n",
       "}\n",
       "</style>\n",
       "<small>shape: (4, 19)</small><table border=\"1\" class=\"dataframe\"><thead><tr><th>CharacterName-RealmName</th><th>Back</th><th>Chest</th><th>Wrist</th><th>Legs</th><th>Feet</th><th>Ring 1</th><th>Ring 2</th><th>Main Hand</th><th>Head gem</th><th>Wrist gem</th><th>Waist gem</th><th>Neck gem 1</th><th>Neck gem 2</th><th>Ring 1 gem 1</th><th>Ring 1 gem 2</th><th>Ring 2 gem 1</th><th>Ring 2 gem 2</th><th>Off Hand</th></tr><tr><td>str</td><td>str</td><td>str</td><td>str</td><td>str</td><td>str</td><td>str</td><td>str</td><td>str</td><td>str</td><td>str</td><td>str</td><td>str</td><td>str</td><td>str</td><td>str</td><td>str</td><td>str</td><td>str</td></tr></thead><tbody><tr><td>&quot;Aptodoesntexist-Draenor&quot;</td><td>&quot;No Item&quot;</td><td>&quot;No Item&quot;</td><td>&quot;No Item&quot;</td><td>&quot;No Item&quot;</td><td>&quot;No Item&quot;</td><td>&quot;No Item&quot;</td><td>&quot;No Item&quot;</td><td>&quot;No Item&quot;</td><td>&quot;No Item&quot;</td><td>&quot;No Item&quot;</td><td>&quot;No Item&quot;</td><td>&quot;No Item&quot;</td><td>&quot;No Item&quot;</td><td>&quot;No Item&quot;</td><td>&quot;No Item&quot;</td><td>&quot;No Item&quot;</td><td>&quot;No Item&quot;</td><td>&quot;No Item&quot;</td></tr><tr><td>&quot;Aptosaurinae-Draenor&quot;</td><td>&quot;Enchanted: +355 Avoidance :qua…</td><td>&quot;Enchanted: Crystalline Radianc…</td><td>&quot;Enchanted: +710 Avoidance :qua…</td><td>&quot;Enchanted: +747 Intellect &amp; +2…</td><td>&quot;Enchanted: Scout&#x27;s March :qual…</td><td>&quot;Enchanted: +190 Haste :quality…</td><td>&quot;Enchanted: +190 Haste :quality…</td><td>&quot;Enchanted: Stormrider&#x27;s Fury :…</td><td>&quot;Elusive Blasphemite&quot;</td><td>&quot;Deadly Onyx&quot;</td><td>&quot;Deadly Emerald&quot;</td><td>&quot;Masterful Emerald&quot;</td><td>&quot;Masterful Emerald&quot;</td><td>&quot;Masterful Emerald&quot;</td><td>&quot;Masterful Emerald&quot;</td><td>&quot;Deadly Sapphire&quot;</td><td>&quot;Quick Ruby&quot;</td><td>&quot;No Item&quot;</td></tr><tr><td>&quot;Aptosoar-Draenor&quot;</td><td>&quot;Enchanted: +355 Avoidance :qua…</td><td>&quot;Enchanted: Crystalline Radianc…</td><td>&quot;Enchanted: +710 Avoidance :qua…</td><td>&quot;Enchanted: +670 Intellect &amp; +4…</td><td>&quot;Missing Enchant&quot;</td><td>&quot;Enchanted: +190 Mastery :quali…</td><td>&quot;Enchanted: +190 Critical Strik…</td><td>&quot;Enchanted: Stonebound Artistry…</td><td>&quot;Quick Onyx&quot;</td><td>&quot;Elusive Blasphemite&quot;</td><td>&quot;Missing Socket&quot;</td><td>&quot;Missing Gem&quot;</td><td>&quot;Missing Socket&quot;</td><td>&quot;Quick Amber&quot;</td><td>&quot;Deadly Amber&quot;</td><td>&quot;Masterful Amber&quot;</td><td>&quot;Versatile Amber&quot;</td><td>&quot;No Item&quot;</td></tr><tr><td>&quot;Aptodin-Draenor&quot;</td><td>&quot;Missing Enchant&quot;</td><td>&quot;Missing Enchant&quot;</td><td>&quot;Missing Enchant&quot;</td><td>&quot;Missing Enchant&quot;</td><td>&quot;Missing Enchant&quot;</td><td>&quot;Missing Enchant&quot;</td><td>&quot;Missing Enchant&quot;</td><td>&quot;Missing Enchant&quot;</td><td>&quot;Missing Socket&quot;</td><td>&quot;Missing Socket&quot;</td><td>&quot;Missing Socket&quot;</td><td>&quot;Missing Socket&quot;</td><td>&quot;Missing Socket&quot;</td><td>&quot;Missing Socket&quot;</td><td>&quot;Missing Socket&quot;</td><td>&quot;Missing Socket&quot;</td><td>&quot;Missing Socket&quot;</td><td>&quot;Missing Enchant&quot;</td></tr></tbody></table></div>"
      ],
      "text/plain": [
       "shape: (4, 19)\n",
       "┌───────────┬───────────┬───────────┬───────────┬───┬───────────┬───────────┬───────────┬──────────┐\n",
       "│ Character ┆ Back      ┆ Chest     ┆ Wrist     ┆ … ┆ Ring 1    ┆ Ring 2    ┆ Ring 2    ┆ Off Hand │\n",
       "│ Name-Real ┆ ---       ┆ ---       ┆ ---       ┆   ┆ gem 2     ┆ gem 1     ┆ gem 2     ┆ ---      │\n",
       "│ mName     ┆ str       ┆ str       ┆ str       ┆   ┆ ---       ┆ ---       ┆ ---       ┆ str      │\n",
       "│ ---       ┆           ┆           ┆           ┆   ┆ str       ┆ str       ┆ str       ┆          │\n",
       "│ str       ┆           ┆           ┆           ┆   ┆           ┆           ┆           ┆          │\n",
       "╞═══════════╪═══════════╪═══════════╪═══════════╪═══╪═══════════╪═══════════╪═══════════╪══════════╡\n",
       "│ Aptodoesn ┆ No Item   ┆ No Item   ┆ No Item   ┆ … ┆ No Item   ┆ No Item   ┆ No Item   ┆ No Item  │\n",
       "│ texist-Dr ┆           ┆           ┆           ┆   ┆           ┆           ┆           ┆          │\n",
       "│ aenor     ┆           ┆           ┆           ┆   ┆           ┆           ┆           ┆          │\n",
       "│ Aptosauri ┆ Enchanted ┆ Enchanted ┆ Enchanted ┆ … ┆ Masterful ┆ Deadly    ┆ Quick     ┆ No Item  │\n",
       "│ nae-Draen ┆ : +355    ┆ : Crystal ┆ : +710    ┆   ┆ Emerald   ┆ Sapphire  ┆ Ruby      ┆          │\n",
       "│ or        ┆ Avoidance ┆ line      ┆ Avoidance ┆   ┆           ┆           ┆           ┆          │\n",
       "│           ┆ :qua…     ┆ Radianc…  ┆ :qua…     ┆   ┆           ┆           ┆           ┆          │\n",
       "│ Aptosoar- ┆ Enchanted ┆ Enchanted ┆ Enchanted ┆ … ┆ Deadly    ┆ Masterful ┆ Versatile ┆ No Item  │\n",
       "│ Draenor   ┆ : +355    ┆ : Crystal ┆ : +710    ┆   ┆ Amber     ┆ Amber     ┆ Amber     ┆          │\n",
       "│           ┆ Avoidance ┆ line      ┆ Avoidance ┆   ┆           ┆           ┆           ┆          │\n",
       "│           ┆ :qua…     ┆ Radianc…  ┆ :qua…     ┆   ┆           ┆           ┆           ┆          │\n",
       "│ Aptodin-D ┆ Missing   ┆ Missing   ┆ Missing   ┆ … ┆ Missing   ┆ Missing   ┆ Missing   ┆ Missing  │\n",
       "│ raenor    ┆ Enchant   ┆ Enchant   ┆ Enchant   ┆   ┆ Socket    ┆ Socket    ┆ Socket    ┆ Enchant  │\n",
       "└───────────┴───────────┴───────────┴───────────┴───┴───────────┴───────────┴───────────┴──────────┘"
      ]
     },
     "metadata": {},
     "output_type": "display_data"
    },
    {
     "name": "stderr",
     "output_type": "stream",
     "text": [
      "d:\\Programming\\github-repos\\nop-raid-bot\\blizzapi.py:527: UserWarning: No data found for Aptodoesntexist-Draenor Nerub-ar Palace [Heroic]\n",
      "  warnings.warn(f\"No data found for {self.char.name}-{self.char.realm} {raid_name} [{difficulty}]\")\n",
      "d:\\Programming\\github-repos\\nop-raid-bot\\blizzapi.py:527: UserWarning: No data found for Aptodin-Draenor Nerub-ar Palace [Heroic]\n",
      "  warnings.warn(f\"No data found for {self.char.name}-{self.char.realm} {raid_name} [{difficulty}]\")\n"
     ]
    },
    {
     "data": {
      "text/plain": [
       "'Raid Lockout Summary for Nerub-ar Palace [Heroic] (Y if boss has been killed this reset)\\n```                        1 2 3 4 5 6 7 8\\nAptodoesntexist-Draenor N N N N N N N N\\nAptosaurinae-Draenor    N N N N N N N N\\nAptosoar-Draenor        N N N N N N N N\\nAptodin-Draenor         N N N N N N N N```'"
      ]
     },
     "metadata": {},
     "output_type": "display_data"
    },
    {
     "name": "stderr",
     "output_type": "stream",
     "text": [
      "d:\\Programming\\github-repos\\nop-raid-bot\\blizzapi.py:527: UserWarning: No data found for Aptodoesntexist-Draenor Nerub-ar Palace [Heroic]\n",
      "  warnings.warn(f\"No data found for {self.char.name}-{self.char.realm} {raid_name} [{difficulty}]\")\n"
     ]
    },
    {
     "data": {
      "text/plain": [
       "'Raid Progress Summary for Nerub-ar Palace [Heroic] (Y if boss has been killed ever by this character)\\n```                        1 2 3 4 5 6 7 8\\nAptodoesntexist-Draenor N N N N N N N N\\nAptosaurinae-Draenor    Y Y Y Y Y Y N N\\nAptosoar-Draenor        Y Y Y Y N N N N\\nAptodin-Draenor         N N N N N N N N```'"
      ]
     },
     "metadata": {},
     "output_type": "display_data"
    },
    {
     "name": "stdout",
     "output_type": "stream",
     "text": [
      "['                                                                                                                     Ring   Ring   Ring   Ring       ', '                                                                                                       Neck   Neck      1      1      2      2       ', '                                                             Ring   Ring   Main   Head  Wrist  Waist    gem    gem    gem    gem    gem    gem    Off', '                          Back  Chest  Wrist   Legs   Feet      1      2   Hand    gem    gem    gem      1      2      1      2      1      2   Hand']\n"
     ]
    },
    {
     "name": "stderr",
     "output_type": "stream",
     "text": [
      "d:\\Programming\\github-repos\\nop-raid-bot\\blizzapi.py:706: UserWarning: No equipment found for Aptodoesntexist-Draenor\n",
      "  warnings.warn(f\"No equipment found for {self.char.name}-{self.char.realm}\")\n"
     ]
    },
    {
     "data": {
      "text/plain": [
       "'Equipment summary (Y for enchanted/gemmed N for not, X for missing entirely)\\n```\\n                                                                                                                     Ring   Ring   Ring   Ring       \\n                                                                                                       Neck   Neck      1      1      2      2       \\n                                                             Ring   Ring   Main   Head  Wrist  Waist    gem    gem    gem    gem    gem    gem    Off\\n                          Back  Chest  Wrist   Legs   Feet      1      2   Hand    gem    gem    gem      1      2      1      2      1      2   Hand\\nAptodoesntexist-Draenor      X      X      X      X      X      X      X      X      X      X      X      X      X      X      X      X      X      X\\nAptosaurinae-Draenor         Y      Y      Y      Y      Y      Y      Y      Y      Y      Y      Y      Y      Y      Y      Y      Y      Y      X\\nAptosoar-Draenor             Y      Y      Y      Y      N      Y      Y      Y      Y      Y      X      N      X      Y      Y      Y      Y      X\\nAptodin-Draenor              N      N      N      N      N      N      N      N      X      X      X      X      X      X      X      X      X      N```'"
      ]
     },
     "metadata": {},
     "output_type": "display_data"
    }
   ],
   "source": [
    "batch_data_2 = blizzapi.BatchData(oauth, blizz_urls)\n",
    "batch_data_2.add_chars([test_noexist, aptosaurinae, aptosoar, aptodin])\n",
    "display(batch_data_2.get_raid_df(expansion, raid, difficulty))\n",
    "display(batch_data_2.get_raid_df(expansion, raid, difficulty, report_type=\"lockout\"))\n",
    "display(batch_data_2.get_equipment_df())\n",
    "display(batch_data_2.get_raid_lockout_summary(expansion, raid, difficulty))\n",
    "display(batch_data_2.get_raid_progress_summary(expansion, raid, difficulty))\n",
    "display(batch_data_2.get_equipment_summary())"
   ]
  }
 ],
 "metadata": {
  "kernelspec": {
   "display_name": "nop-raid-bot",
   "language": "python",
   "name": "python3"
  },
  "language_info": {
   "codemirror_mode": {
    "name": "ipython",
    "version": 3
   },
   "file_extension": ".py",
   "mimetype": "text/x-python",
   "name": "python",
   "nbconvert_exporter": "python",
   "pygments_lexer": "ipython3",
   "version": "3.13.0"
  }
 },
 "nbformat": 4,
 "nbformat_minor": 2
}
