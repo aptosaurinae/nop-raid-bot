{
 "cells": [
  {
   "cell_type": "markdown",
   "metadata": {},
   "source": [
    "# Testing and validation of outputs when using `blizzapi`"
   ]
  },
  {
   "cell_type": "code",
   "execution_count": 1,
   "metadata": {},
   "outputs": [],
   "source": [
    "from pathlib import Path\n",
    "import tomllib\n",
    "from oauthlib.oauth2 import BackendApplicationClient\n",
    "from requests_oauthlib import OAuth2Session\n",
    "import blizzapi"
   ]
  },
  {
   "cell_type": "markdown",
   "metadata": {},
   "source": [
    "## Setup of `oauth` / blizzard api link"
   ]
  },
  {
   "cell_type": "code",
   "execution_count": 2,
   "metadata": {},
   "outputs": [],
   "source": [
    "client_filepath = Path(r\"D:\\Programming\\github-repos\\nop-raid-bot\\clientdetails.toml\")\n",
    "with open(client_filepath, \"rb\") as client_file:\n",
    "    client_data = tomllib.load(client_file)\n",
    "\n",
    "CLIENT_ID = client_data[\"client\"][\"id\"]\n",
    "CLIENT_SECRET = client_data[\"client\"][\"secret\"]\n",
    "\n",
    "TOKEN_URL = \"https://oauth.battle.net/token\""
   ]
  },
  {
   "cell_type": "code",
   "execution_count": 3,
   "metadata": {},
   "outputs": [],
   "source": [
    "client = BackendApplicationClient(client_id=CLIENT_ID)\n",
    "oauth = OAuth2Session(client=client, state=\"blah123\")\n",
    "token = oauth.fetch_token(token_url=TOKEN_URL, client_id=CLIENT_ID, client_secret=CLIENT_SECRET)"
   ]
  },
  {
   "cell_type": "markdown",
   "metadata": {},
   "source": [
    "### Initial setup of raid variables"
   ]
  },
  {
   "cell_type": "code",
   "execution_count": 4,
   "metadata": {},
   "outputs": [],
   "source": [
    "expansion = \"The War Within\"\n",
    "raid = \"Nerub-ar Palace\"\n",
    "difficulty = \"Heroic\""
   ]
  },
  {
   "cell_type": "markdown",
   "metadata": {},
   "source": [
    "### Test character-specific raid and equipment queries"
   ]
  },
  {
   "cell_type": "code",
   "execution_count": 5,
   "metadata": {},
   "outputs": [
    {
     "data": {
      "text/plain": [
       "\"Aptosaurinae-Draenor:\\n- Heroic Ulgrax the Devourer: <t:1730661349:D>\\n- Heroic The Bloodbound Horror: <t:1730662050:D>\\n- Heroic Sikran, Captain of the Sureki: <t:1730662840:D>\\n- Heroic Rasha'nan: <t:1730663569:D>\\n- Heroic Broodtwister Ovi'nax: <t:1730664631:D>\\n- Heroic Nexus-Princess Ky'veza: <t:1730667103:D>\""
      ]
     },
     "metadata": {},
     "output_type": "display_data"
    },
    {
     "data": {
      "text/plain": [
       "\"Aptosaurinae-Draenor:\\n- Heroic Ulgrax the Devourer: True\\n- Heroic The Bloodbound Horror: True\\n- Heroic Sikran, Captain of the Sureki: True\\n- Heroic Rasha'nan: True\\n- Heroic Broodtwister Ovi'nax: True\\n- Heroic Nexus-Princess Ky'veza: True\""
      ]
     },
     "metadata": {},
     "output_type": "display_data"
    }
   ],
   "source": [
    "aptosaurinae = blizzapi.Character(\"Aptosaurinae\", \"Draenor\")\n",
    "blizz_urls = blizzapi.BlizzardAPIURLs()\n",
    "aptosaurinae_data = blizzapi.CharacterData(aptosaurinae, blizz_api_urls=blizz_urls, oauth=oauth)\n",
    "display(aptosaurinae_data.get_specific_raid_data(expansion, raid, difficulty))\n",
    "display(aptosaurinae_data.get_specific_raid_lockout_status(expansion, raid, difficulty))"
   ]
  },
  {
   "cell_type": "code",
   "execution_count": 6,
   "metadata": {},
   "outputs": [
    {
     "data": {
      "text/plain": [
       "\"Aptosoar-Draenor:\\n- Heroic Ulgrax the Devourer: <t:1728843040:D>\\n- Heroic The Bloodbound Horror: <t:1728845057:D>\\n- Heroic Sikran, Captain of the Sureki: <t:1728846011:D>\\n- Heroic Rasha'nan: <t:1728846940:D>\""
      ]
     },
     "metadata": {},
     "output_type": "display_data"
    },
    {
     "data": {
      "text/plain": [
       "\"Aptosoar-Draenor:\\n- Heroic Ulgrax the Devourer: False\\n- Heroic The Bloodbound Horror: False\\n- Heroic Sikran, Captain of the Sureki: False\\n- Heroic Rasha'nan: False\""
      ]
     },
     "metadata": {},
     "output_type": "display_data"
    }
   ],
   "source": [
    "aptosoar = blizzapi.Character(\"Aptosoar\", \"Draenor\")\n",
    "aptosoar_data = blizzapi.CharacterData(aptosoar, blizz_api_urls=blizz_urls, oauth=oauth)\n",
    "display(aptosoar_data.get_specific_raid_data(expansion, raid, difficulty))\n",
    "display(aptosoar_data.get_specific_raid_lockout_status(expansion, raid, difficulty))"
   ]
  },
  {
   "cell_type": "code",
   "execution_count": 8,
   "metadata": {},
   "outputs": [
    {
     "data": {
      "text/plain": [
       "\"Aptosaurinae-Draenor Enchants:\\n- Back: Enchanted: +355 Avoidance :quality3:\\n- Chest: Enchanted: Crystalline Radiance :quality2:\\n- Wrist: Enchanted: +710 Avoidance :quality3:\\n- Legs: Enchanted: +747 Intellect & +230 Stamina :quality3:\\n- Feet: Enchanted: Scout's March :quality3:\\n- Ring 1: Enchanted: +190 Haste :quality3:\\n- Ring 2: Enchanted: +190 Haste :quality3:\\n- Main Hand: Enchanted: Stormrider's Fury :quality3:\""
      ]
     },
     "metadata": {},
     "output_type": "display_data"
    },
    {
     "data": {
      "text/plain": [
       "'Aptosaurinae-Draenor Gems:\\n- Head: Elusive Blasphemite\\n- Wrist: Deadly Onyx\\n- Waist: Masterful Emerald\\n- Neck: Masterful Emerald, Masterful Emerald\\n- Ring 1: Masterful Emerald, Masterful Emerald\\n- Ring 2: Deadly Sapphire, Quick Ruby'"
      ]
     },
     "metadata": {},
     "output_type": "display_data"
    }
   ],
   "source": [
    "display(aptosaurinae_data.get_current_enchants(True))\n",
    "display(aptosaurinae_data.get_current_gems(True))"
   ]
  },
  {
   "cell_type": "code",
   "execution_count": 9,
   "metadata": {},
   "outputs": [
    {
     "data": {
      "text/plain": [
       "'Aptosaurinae-Draenor has no missing enchants'"
      ]
     },
     "metadata": {},
     "output_type": "display_data"
    },
    {
     "data": {
      "text/plain": [
       "'Aptosaurinae-Draenor has no missing gems'"
      ]
     },
     "metadata": {},
     "output_type": "display_data"
    }
   ],
   "source": [
    "display(aptosaurinae_data.get_current_enchants(False))\n",
    "display(aptosaurinae_data.get_current_gems(False))"
   ]
  },
  {
   "cell_type": "code",
   "execution_count": 10,
   "metadata": {},
   "outputs": [
    {
     "data": {
      "text/plain": [
       "'Aptodin-Draenor Enchants:\\n- Back: Missing Enchant\\n- Chest: Missing Enchant\\n- Wrist: Missing Enchant\\n- Legs: Missing Enchant\\n- Feet: Missing Enchant\\n- Ring 1: Missing Enchant\\n- Ring 2: Missing Enchant\\n- Main Hand: Missing Enchant\\n- Off Hand: Missing Enchant'"
      ]
     },
     "metadata": {},
     "output_type": "display_data"
    },
    {
     "data": {
      "text/plain": [
       "'Aptodin-Draenor Gems:\\n- Head: Missing Gem or Socket\\n- Wrist: Missing Gem or Socket\\n- Waist: Missing Gem or Socket\\n- Neck: Missing Gem or Socket\\n- Ring 1: Missing Gem or Socket\\n- Ring 2: Missing Gem or Socket'"
      ]
     },
     "metadata": {},
     "output_type": "display_data"
    }
   ],
   "source": [
    "aptodin = blizzapi.Character(\"Aptodin\", \"Draenor\")\n",
    "aptodin_data = blizzapi.CharacterData(aptodin, blizz_api_urls=blizz_urls, oauth=oauth)\n",
    "display(aptodin_data.get_current_enchants(True))\n",
    "display(aptodin_data.get_current_gems(True))"
   ]
  },
  {
   "cell_type": "markdown",
   "metadata": {},
   "source": [
    "### Test raid information gathering"
   ]
  },
  {
   "cell_type": "code",
   "execution_count": 12,
   "metadata": {},
   "outputs": [
    {
     "data": {
      "text/plain": [
       "['Ulgrax the Devourer',\n",
       " 'The Bloodbound Horror',\n",
       " 'Sikran, Captain of the Sureki',\n",
       " \"Rasha'nan\",\n",
       " \"Broodtwister Ovi'nax\",\n",
       " \"Nexus-Princess Ky'veza\",\n",
       " 'The Silken Court',\n",
       " 'Queen Ansurek']"
      ]
     },
     "execution_count": 12,
     "metadata": {},
     "output_type": "execute_result"
    }
   ],
   "source": [
    "nerubar_raid_info = blizzapi.RaidInfo(expansion, raid, oauth, blizz_urls)\n",
    "nerubar_raid_info.get_raid_encounters()"
   ]
  },
  {
   "cell_type": "markdown",
   "metadata": {},
   "source": [
    "### Test querying batches of information from the API"
   ]
  },
  {
   "cell_type": "code",
   "execution_count": 15,
   "metadata": {},
   "outputs": [
    {
     "name": "stderr",
     "output_type": "stream",
     "text": [
      "d:\\Programming\\github-repos\\nop-raid-bot\\blizzapi.py:364: UserWarning: No data found for Nerub-ar Palace [Heroic]\n",
      "  warnings.warn(f\"No data found for {raid_name} [{difficulty}]\")\n"
     ]
    },
    {
     "data": {
      "text/html": [
       "<div><style>\n",
       ".dataframe > thead > tr,\n",
       ".dataframe > tbody > tr {\n",
       "  text-align: right;\n",
       "  white-space: pre-wrap;\n",
       "}\n",
       "</style>\n",
       "<small>shape: (3, 10)</small><table border=\"1\" class=\"dataframe\"><thead><tr><th>CharacterName</th><th>RealmName</th><th>Heroic Ulgrax the Devourer</th><th>Heroic The Bloodbound Horror</th><th>Heroic Sikran, Captain of the Sureki</th><th>Heroic Rasha&#x27;nan</th><th>Heroic Broodtwister Ovi&#x27;nax</th><th>Heroic Nexus-Princess Ky&#x27;veza</th><th>Heroic The Silken Court</th><th>Heroic Queen Ansurek</th></tr><tr><td>str</td><td>str</td><td>i32</td><td>i32</td><td>i32</td><td>i32</td><td>i32</td><td>i32</td><td>i32</td><td>i32</td></tr></thead><tbody><tr><td>&quot;Aptosaurinae&quot;</td><td>&quot;Draenor&quot;</td><td>1730661349</td><td>1730662050</td><td>1730662840</td><td>1730663569</td><td>1730664631</td><td>1730667103</td><td>null</td><td>null</td></tr><tr><td>&quot;Aptosoar&quot;</td><td>&quot;Draenor&quot;</td><td>1728843040</td><td>1728845057</td><td>1728846011</td><td>1728846940</td><td>null</td><td>null</td><td>null</td><td>null</td></tr><tr><td>&quot;Aptodin&quot;</td><td>&quot;Draenor&quot;</td><td>null</td><td>null</td><td>null</td><td>null</td><td>null</td><td>null</td><td>null</td><td>null</td></tr></tbody></table></div>"
      ],
      "text/plain": [
       "shape: (3, 10)\n",
       "┌───────────┬───────────┬───────────┬───────────┬───┬───────────┬───────────┬───────────┬──────────┐\n",
       "│ Character ┆ RealmName ┆ Heroic    ┆ Heroic    ┆ … ┆ Heroic    ┆ Heroic    ┆ Heroic    ┆ Heroic   │\n",
       "│ Name      ┆ ---       ┆ Ulgrax    ┆ The Blood ┆   ┆ Broodtwis ┆ Nexus-Pri ┆ The       ┆ Queen    │\n",
       "│ ---       ┆ str       ┆ the       ┆ bound     ┆   ┆ ter       ┆ ncess     ┆ Silken    ┆ Ansurek  │\n",
       "│ str       ┆           ┆ Devourer  ┆ Horror    ┆   ┆ Ovi'nax   ┆ Ky'veza   ┆ Court     ┆ ---      │\n",
       "│           ┆           ┆ ---       ┆ ---       ┆   ┆ ---       ┆ ---       ┆ ---       ┆ i32      │\n",
       "│           ┆           ┆ i32       ┆ i32       ┆   ┆ i32       ┆ i32       ┆ i32       ┆          │\n",
       "╞═══════════╪═══════════╪═══════════╪═══════════╪═══╪═══════════╪═══════════╪═══════════╪══════════╡\n",
       "│ Aptosauri ┆ Draenor   ┆ 173066134 ┆ 173066205 ┆ … ┆ 173066463 ┆ 173066710 ┆ null      ┆ null     │\n",
       "│ nae       ┆           ┆ 9         ┆ 0         ┆   ┆ 1         ┆ 3         ┆           ┆          │\n",
       "│ Aptosoar  ┆ Draenor   ┆ 172884304 ┆ 172884505 ┆ … ┆ null      ┆ null      ┆ null      ┆ null     │\n",
       "│           ┆           ┆ 0         ┆ 7         ┆   ┆           ┆           ┆           ┆          │\n",
       "│ Aptodin   ┆ Draenor   ┆ null      ┆ null      ┆ … ┆ null      ┆ null      ┆ null      ┆ null     │\n",
       "└───────────┴───────────┴───────────┴───────────┴───┴───────────┴───────────┴───────────┴──────────┘"
      ]
     },
     "metadata": {},
     "output_type": "display_data"
    },
    {
     "name": "stderr",
     "output_type": "stream",
     "text": [
      "d:\\Programming\\github-repos\\nop-raid-bot\\blizzapi.py:364: UserWarning: No data found for Nerub-ar Palace [Heroic]\n",
      "  warnings.warn(f\"No data found for {raid_name} [{difficulty}]\")\n"
     ]
    },
    {
     "data": {
      "text/html": [
       "<div><style>\n",
       ".dataframe > thead > tr,\n",
       ".dataframe > tbody > tr {\n",
       "  text-align: right;\n",
       "  white-space: pre-wrap;\n",
       "}\n",
       "</style>\n",
       "<small>shape: (3, 10)</small><table border=\"1\" class=\"dataframe\"><thead><tr><th>CharacterName</th><th>RealmName</th><th>Heroic Ulgrax the Devourer</th><th>Heroic The Bloodbound Horror</th><th>Heroic Sikran, Captain of the Sureki</th><th>Heroic Rasha&#x27;nan</th><th>Heroic Broodtwister Ovi&#x27;nax</th><th>Heroic Nexus-Princess Ky&#x27;veza</th><th>Heroic The Silken Court</th><th>Heroic Queen Ansurek</th></tr><tr><td>str</td><td>str</td><td>bool</td><td>bool</td><td>bool</td><td>bool</td><td>bool</td><td>bool</td><td>bool</td><td>bool</td></tr></thead><tbody><tr><td>&quot;Aptosaurinae&quot;</td><td>&quot;Draenor&quot;</td><td>true</td><td>true</td><td>true</td><td>true</td><td>true</td><td>true</td><td>false</td><td>false</td></tr><tr><td>&quot;Aptosoar&quot;</td><td>&quot;Draenor&quot;</td><td>false</td><td>false</td><td>false</td><td>false</td><td>false</td><td>false</td><td>false</td><td>false</td></tr><tr><td>&quot;Aptodin&quot;</td><td>&quot;Draenor&quot;</td><td>false</td><td>false</td><td>false</td><td>false</td><td>false</td><td>false</td><td>false</td><td>false</td></tr></tbody></table></div>"
      ],
      "text/plain": [
       "shape: (3, 10)\n",
       "┌───────────┬───────────┬───────────┬───────────┬───┬───────────┬───────────┬───────────┬──────────┐\n",
       "│ Character ┆ RealmName ┆ Heroic    ┆ Heroic    ┆ … ┆ Heroic    ┆ Heroic    ┆ Heroic    ┆ Heroic   │\n",
       "│ Name      ┆ ---       ┆ Ulgrax    ┆ The Blood ┆   ┆ Broodtwis ┆ Nexus-Pri ┆ The       ┆ Queen    │\n",
       "│ ---       ┆ str       ┆ the       ┆ bound     ┆   ┆ ter       ┆ ncess     ┆ Silken    ┆ Ansurek  │\n",
       "│ str       ┆           ┆ Devourer  ┆ Horror    ┆   ┆ Ovi'nax   ┆ Ky'veza   ┆ Court     ┆ ---      │\n",
       "│           ┆           ┆ ---       ┆ ---       ┆   ┆ ---       ┆ ---       ┆ ---       ┆ bool     │\n",
       "│           ┆           ┆ bool      ┆ bool      ┆   ┆ bool      ┆ bool      ┆ bool      ┆          │\n",
       "╞═══════════╪═══════════╪═══════════╪═══════════╪═══╪═══════════╪═══════════╪═══════════╪══════════╡\n",
       "│ Aptosauri ┆ Draenor   ┆ true      ┆ true      ┆ … ┆ true      ┆ true      ┆ false     ┆ false    │\n",
       "│ nae       ┆           ┆           ┆           ┆   ┆           ┆           ┆           ┆          │\n",
       "│ Aptosoar  ┆ Draenor   ┆ false     ┆ false     ┆ … ┆ false     ┆ false     ┆ false     ┆ false    │\n",
       "│ Aptodin   ┆ Draenor   ┆ false     ┆ false     ┆ … ┆ false     ┆ false     ┆ false     ┆ false    │\n",
       "└───────────┴───────────┴───────────┴───────────┴───┴───────────┴───────────┴───────────┴──────────┘"
      ]
     },
     "metadata": {},
     "output_type": "display_data"
    },
    {
     "data": {
      "text/html": [
       "<div><style>\n",
       ".dataframe > thead > tr,\n",
       ".dataframe > tbody > tr {\n",
       "  text-align: right;\n",
       "  white-space: pre-wrap;\n",
       "}\n",
       "</style>\n",
       "<small>shape: (3, 11)</small><table border=\"1\" class=\"dataframe\"><thead><tr><th>CharacterName</th><th>RealmName</th><th>Back</th><th>Chest</th><th>Wrist</th><th>Legs</th><th>Feet</th><th>Ring 1</th><th>Ring 2</th><th>Main Hand</th><th>Off Hand</th></tr><tr><td>str</td><td>str</td><td>str</td><td>str</td><td>str</td><td>str</td><td>str</td><td>str</td><td>str</td><td>str</td><td>str</td></tr></thead><tbody><tr><td>&quot;Aptosaurinae&quot;</td><td>&quot;Draenor&quot;</td><td>&quot;Enchanted: +355 Avoidance :qua…</td><td>&quot;Enchanted: Crystalline Radianc…</td><td>&quot;Enchanted: +710 Avoidance :qua…</td><td>&quot;Enchanted: +747 Intellect &amp; +2…</td><td>&quot;Enchanted: Scout&#x27;s March :qual…</td><td>&quot;Enchanted: +190 Haste :quality…</td><td>&quot;Enchanted: +190 Haste :quality…</td><td>&quot;Enchanted: Stormrider&#x27;s Fury :…</td><td>&quot;No Item&quot;</td></tr><tr><td>&quot;Aptosoar&quot;</td><td>&quot;Draenor&quot;</td><td>&quot;Enchanted: +355 Avoidance :qua…</td><td>&quot;Enchanted: Crystalline Radianc…</td><td>&quot;Enchanted: +710 Avoidance :qua…</td><td>&quot;Enchanted: +670 Intellect &amp; +4…</td><td>&quot;Missing Enchant&quot;</td><td>&quot;Enchanted: +190 Mastery :quali…</td><td>&quot;Enchanted: +190 Critical Strik…</td><td>&quot;Enchanted: Stonebound Artistry…</td><td>&quot;No Item&quot;</td></tr><tr><td>&quot;Aptodin&quot;</td><td>&quot;Draenor&quot;</td><td>&quot;Missing Enchant&quot;</td><td>&quot;Missing Enchant&quot;</td><td>&quot;Missing Enchant&quot;</td><td>&quot;Missing Enchant&quot;</td><td>&quot;Missing Enchant&quot;</td><td>&quot;Missing Enchant&quot;</td><td>&quot;Missing Enchant&quot;</td><td>&quot;Missing Enchant&quot;</td><td>&quot;Missing Enchant&quot;</td></tr></tbody></table></div>"
      ],
      "text/plain": [
       "shape: (3, 11)\n",
       "┌───────────┬───────────┬───────────┬───────────┬───┬───────────┬───────────┬───────────┬──────────┐\n",
       "│ Character ┆ RealmName ┆ Back      ┆ Chest     ┆ … ┆ Ring 1    ┆ Ring 2    ┆ Main Hand ┆ Off Hand │\n",
       "│ Name      ┆ ---       ┆ ---       ┆ ---       ┆   ┆ ---       ┆ ---       ┆ ---       ┆ ---      │\n",
       "│ ---       ┆ str       ┆ str       ┆ str       ┆   ┆ str       ┆ str       ┆ str       ┆ str      │\n",
       "│ str       ┆           ┆           ┆           ┆   ┆           ┆           ┆           ┆          │\n",
       "╞═══════════╪═══════════╪═══════════╪═══════════╪═══╪═══════════╪═══════════╪═══════════╪══════════╡\n",
       "│ Aptosauri ┆ Draenor   ┆ Enchanted ┆ Enchanted ┆ … ┆ Enchanted ┆ Enchanted ┆ Enchanted ┆ No Item  │\n",
       "│ nae       ┆           ┆ : +355    ┆ : Crystal ┆   ┆ : +190    ┆ : +190    ┆ : Stormri ┆          │\n",
       "│           ┆           ┆ Avoidance ┆ line      ┆   ┆ Haste     ┆ Haste     ┆ der's     ┆          │\n",
       "│           ┆           ┆ :qua…     ┆ Radianc…  ┆   ┆ :quality… ┆ :quality… ┆ Fury :…   ┆          │\n",
       "│ Aptosoar  ┆ Draenor   ┆ Enchanted ┆ Enchanted ┆ … ┆ Enchanted ┆ Enchanted ┆ Enchanted ┆ No Item  │\n",
       "│           ┆           ┆ : +355    ┆ : Crystal ┆   ┆ : +190    ┆ : +190    ┆ : Stonebo ┆          │\n",
       "│           ┆           ┆ Avoidance ┆ line      ┆   ┆ Mastery   ┆ Critical  ┆ und       ┆          │\n",
       "│           ┆           ┆ :qua…     ┆ Radianc…  ┆   ┆ :quali…   ┆ Strik…    ┆ Artistry… ┆          │\n",
       "│ Aptodin   ┆ Draenor   ┆ Missing   ┆ Missing   ┆ … ┆ Missing   ┆ Missing   ┆ Missing   ┆ Missing  │\n",
       "│           ┆           ┆ Enchant   ┆ Enchant   ┆   ┆ Enchant   ┆ Enchant   ┆ Enchant   ┆ Enchant  │\n",
       "└───────────┴───────────┴───────────┴───────────┴───┴───────────┴───────────┴───────────┴──────────┘"
      ]
     },
     "metadata": {},
     "output_type": "display_data"
    }
   ],
   "source": [
    "batch_data = blizzapi.BatchData(oauth, blizz_urls)\n",
    "batch_data.add_chars([aptosaurinae, aptosoar, aptodin])\n",
    "display(batch_data.get_raid_report(expansion, raid, difficulty))\n",
    "display(batch_data.get_raid_report(expansion, raid, difficulty, report_type=\"lockout\"))\n",
    "display(batch_data.get_equipment_report())"
   ]
  }
 ],
 "metadata": {
  "kernelspec": {
   "display_name": "nop-raid-bot",
   "language": "python",
   "name": "python3"
  },
  "language_info": {
   "codemirror_mode": {
    "name": "ipython",
    "version": 3
   },
   "file_extension": ".py",
   "mimetype": "text/x-python",
   "name": "python",
   "nbconvert_exporter": "python",
   "pygments_lexer": "ipython3",
   "version": "3.13.0"
  }
 },
 "nbformat": 4,
 "nbformat_minor": 2
}
